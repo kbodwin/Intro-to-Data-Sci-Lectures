{
  "cells": [
    {
      "cell_type": "raw",
      "metadata": {},
      "source": [
        "---\n",
        "title: \"Tabular data and variable summaries\"\n",
        "format: revealjs\n",
        "---"
      ],
      "id": "70671766"
    },
    {
      "cell_type": "markdown",
      "metadata": {},
      "source": [
        "## Data \"on disk\"\n",
        "\n",
        "```\n",
        "name,pclass,survived,sex,age,sibsp,parch,ticket,fare,cabin,embarked,boat,body,home.dest\n",
        "\"Allen, Miss. Elisabeth Walton\",1,1,female,29,0,0,24160,211.3375,B5,S,2,,\"St Louis, MO\"\n",
        "\"Allison, Master. Hudson Trevor\",1,1,male,0.9167,1,2,113781,151.5500,C22 C26,S,11,,\"Montreal, PQ / Chesterville, ON\"\n",
        "\"Allison, Miss. Helen Loraine\",1,0,female,2,1,2,113781,151.5500,C22 C26,S,,,\"Montreal, PQ / Chesterville, ON\"\n",
        "\"Allison, Mr. Hudson Joshua Creighton\",1,0,male,30,1,2,113781,151.5500,C22 C26,S,,135,\"Montreal, PQ / Chesterville, ON\"\n",
        "\"Allison, Mrs. Hudson J C (Bessie Waldo Daniels)\",1,0,female,25,1,2,113781,151.5500,C22 C26,S,,,\"Montreal, PQ / Chesterville, ON\"\n",
        "\"Anderson, Mr. Harry\",1,1,male,48,0,0,19952,26.5500,E12,S,3,,\"New York, NY\"\n",
        "\"Andrews, Miss. Kornelia Theodosia\",1,1,female,63,1,0,13502,77.9583,D7,S,10,,\"Hudson, NY\"\n",
        "\"Andrews, Mr. Thomas Jr\",1,0,male,39,0,0,112050,0.0000,A36,S,,,\"Belfast, NI\"\n",
        "\"Appleton, Mrs. Edward Dale (Charlotte Lamson)\",1,1,female,53,2,0,11769,51.4792,C101,S,D,,\"Bayside, Queens, NY\"\n",
        "\"Artagaveytia, Mr. Ramon\",1,0,male,71,0,0,PC 17609,49.5042,,C,,22,\"Montevideo, Uruguay\"\n",
        "\"Astor, Col. John Jacob\",1,0,male,47,1,0,PC 17757,227.5250,C62 C64,C,,124,\"New York, NY\"\n",
        "```\n",
        "\n",
        "This is called a **csv** (*comma-separated*) file.\n",
        "\n",
        "## Data \"on disk\"\n",
        "\n",
        "We *read the data* into a program like `python` by specifying:\n",
        "\n",
        "* what **type** of file it is\n",
        "\n",
        "* **where** the csv file is located (the **\"path\"**)\n",
        "\n",
        "* if the file has a **header**\n",
        "\n",
        "* ... and other information in special cases!\n",
        "\n",
        "## Data \"on disk\"\n"
      ],
      "id": "90dcf1de"
    },
    {
      "cell_type": "code",
      "metadata": {},
      "source": [
        "df = pd.read_csv(\"https://datasci112.stanford.edu/data/titanic.csv\")\n",
        "df"
      ],
      "id": "ce6f02c6",
      "execution_count": null,
      "outputs": []
    },
    {
      "cell_type": "markdown",
      "metadata": {},
      "source": [
        "## Data \"on disk\"\n"
      ],
      "id": "6cf5e918"
    },
    {
      "cell_type": "code",
      "metadata": {},
      "source": [
        "df = pd.read_csv(\"https://datasci112.stanford.edu/data/titanic.csv\")"
      ],
      "id": "895dbdfa",
      "execution_count": null,
      "outputs": []
    },
    {
      "cell_type": "markdown",
      "metadata": {},
      "source": [
        "* What if this file lived on a computer instead of online?\n",
        "\n",
        "* Why didn't we have to specify that this dataset has a header?\n"
      ],
      "id": "03462ace"
    }
  ],
  "metadata": {
    "kernelspec": {
      "name": "jobs-research",
      "language": "python",
      "display_name": "jobs-research"
    }
  },
  "nbformat": 4,
  "nbformat_minor": 5
}